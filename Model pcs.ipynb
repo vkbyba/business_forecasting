{
 "cells": [
  {
   "cell_type": "markdown",
   "id": "c04f2687",
   "metadata": {},
   "source": [
    "## Прогноз PCS (three-phase linear)\n",
    "\n",
    "Прогноз щотижневих продажів по SKU з додатковими регресорами."
   ]
  },
  {
   "cell_type": "code",
   "execution_count": null,
   "id": "77241524",
   "metadata": {},
   "outputs": [],
   "source": [
    "from pathlib import Path\n",
    "\n",
    "import numpy as np\n",
    "import pandas as pd\n",
    "\n",
    "from three_phase_linear import ForecastConfig, run_three_phase_forecast\n",
    "\n",
    "DATA_PATH = Path('dataset_pcs.csv')\n",
    "OUTPUT_PATH = Path('pcs_three_phase_forecast.csv')\n",
    "GROUP_COLS = ['sku_id']\n",
    "TARGET_COLUMN = 'qty_total'\n",
    "REGRESSORS = [\n",
    "    'orders_qty', 'total_abc_numeric', 'avg_discount_perc_by_goods',\n",
    "    'max_discount_perc_by_goods', 'avg_goods_price_by_goods', 'oos__by_goods',\n",
    "    'war', 'covid', 'sin_quarter', 'cos_quarter', 'sin_month', 'cos_month',\n",
    "    'sin_week', 'cos_week'\n",
    "]"
   ]
  },
  {
   "cell_type": "code",
   "execution_count": null,
   "id": "a42b3e01",
   "metadata": {},
   "outputs": [],
   "source": [
    "df = pd.read_csv(DATA_PATH)\n",
    "df['period'] = pd.to_datetime(df['period'])\n",
    "comma_cols = ['avg_discount_perc_by_goods', 'max_discount_perc_by_goods', 'avg_goods_price_by_goods', 'oos__by_goods', 'sin_month', 'cos_month', 'sin_week', 'cos_week']\n",
    "for col in comma_cols:\n",
    "    df[col] = df[col].astype(str).str.replace(',', '.', regex=False)\n",
    "    df[col] = pd.to_numeric(df[col], errors='coerce')\n",
    "numeric_cols = ['qty_total', 'orders_qty', 'total_abc_numeric', 'war', 'covid', 'sin_quarter', 'cos_quarter']\n",
    "for col in numeric_cols:\n",
    "    df[col] = pd.to_numeric(df[col], errors='coerce')\n",
    "\n",
    "# Mark placeholder rows (future horizon) where target should be forecasted\n",
    "placeholder_mask = df['last_goods_sell_status'].isna() & df['oos__by_goods'].isna()\n",
    "df.loc[placeholder_mask, TARGET_COLUMN] = np.nan\n",
    "\n",
    "df = df.sort_values(GROUP_COLS + ['period']).reset_index(drop=True)\n",
    "\n",
    "forecast_horizon = int(df.loc[placeholder_mask, 'period'].nunique()) if placeholder_mask.any() else 0\n",
    "if forecast_horizon <= 0:\n",
    "    forecast_horizon = 4\n",
    "print(f'Горизонт прогнозу: {forecast_horizon} тижнів')"
   ]
  },
  {
   "cell_type": "code",
   "execution_count": null,
   "id": "6e342a99",
   "metadata": {},
   "outputs": [],
   "source": [
    "input_cols = ['period', *GROUP_COLS, 'category_id', TARGET_COLUMN, *REGRESSORS]\n",
    "input_cols = list(dict.fromkeys(input_cols))\n",
    "config = ForecastConfig(\n",
    "    time_col='period',\n",
    "    target_col=TARGET_COLUMN,\n",
    "    group_cols=GROUP_COLS,\n",
    "    freq='W-MON',\n",
    "    forecast_horizon=forecast_horizon,\n",
    "    seasonal_periods=52,\n",
    "    min_history=20,\n",
    "    lags=(1, 2, 3, 4, 8, 12, 16),\n",
    "    rolling_windows=(3, 4, 8, 12),\n",
    "    additional_regressors=REGRESSORS,\n",
    "    random_search_iterations=0,\n",
    "    n_splits=3,\n",
    "    n_estimators=300,\n",
    "    target_transform=np.log1p,\n",
    "    target_inverse_transform=np.expm1,\n",
    "    random_state=46,\n",
    ")\n",
    "\n",
    "preds, summaries = run_three_phase_forecast(df[input_cols].copy(), config)\n",
    "preds = preds.rename(columns={\n",
    "    'prediction': 'qty_total_forecast',\n",
    "    f'{TARGET_COLUMN}_holtwinters': 'qty_total_baseline',\n",
    "})\n",
    "summary_report = pd.DataFrame({\n",
    "    'group_key': [s.group_key[0] for s in summaries],\n",
    "    'train_rows': [s.train_rows for s in summaries],\n",
    "    'cv_mae': [s.best_score for s in summaries],\n",
    "    'skipped_reason': [s.skipped_reason for s in summaries],\n",
    "})\n",
    "summary_report.head()"
   ]
  },
  {
   "cell_type": "code",
   "execution_count": null,
   "id": "f6add75f",
   "metadata": {},
   "outputs": [],
   "source": [
    "merge_cols = [*GROUP_COLS, 'period']\n",
    "forecast_df = preds[merge_cols + ['qty_total_forecast']].copy()\n",
    "static_map = df[['sku_id', 'category_id']].drop_duplicates()\n",
    "forecast_df = forecast_df.merge(static_map, on='sku_id', how='left')\n",
    "forecast_df = forecast_df.rename(columns={'qty_total_forecast': 'qty_total'})\n",
    "forecast_df = forecast_df.sort_values(GROUP_COLS + ['period']).reset_index(drop=True)\n",
    "forecast_df.to_csv(OUTPUT_PATH, index=False)\n",
    "\n",
    "forecast_df.tail()"
   ]
  },
  {
   "cell_type": "code",
   "execution_count": null,
   "id": "18cc0b8f",
   "metadata": {},
   "outputs": [],
   "source": [
    "summary_report"
   ]
  }
 ],
 "metadata": {
  "kernelspec": {
   "display_name": "Python 3",
   "language": "python",
   "name": "python3"
  },
  "language_info": {
   "name": "python",
   "pygments_lexer": "ipython3"
  }
 },
 "nbformat": 4,
 "nbformat_minor": 5
}
