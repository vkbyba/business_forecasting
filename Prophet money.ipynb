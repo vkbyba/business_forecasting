{
 "cells": [
  {
   "cell_type": "markdown",
   "id": "c6f6c578",
   "metadata": {},
   "source": [
    "## Revenue forecast (three-phase linear model)\n",
    "\n",
    "Forecast monthly revenue per category with the reusable pipeline."
   ]
  },
  {
   "cell_type": "code",
   "execution_count": 1,
   "id": "cfeccdc0",
   "metadata": {
    "execution": {
     "iopub.execute_input": "2025-10-20T20:47:41.812764Z",
     "iopub.status.busy": "2025-10-20T20:47:41.812764Z",
     "iopub.status.idle": "2025-10-20T20:47:43.988908Z",
     "shell.execute_reply": "2025-10-20T20:47:43.987913Z"
    }
   },
   "outputs": [],
   "source": [
    "from pathlib import Path\n",
    "\n",
    "import numpy as np\n",
    "import pandas as pd\n",
    "\n",
    "from three_phase_linear import ForecastConfig, run_three_phase_forecast\n",
    "\n",
    "DATA_PATH = Path('forecast_revenue_dataset.csv')\n",
    "OUTPUT_PATH = Path('money_three_phase_forecast.csv')\n",
    "GROUP_COLS = ['category_id']\n",
    "TARGET_COLUMN = 'revenue'\n",
    "REGRESSORS = ['is_sale_prohibition', 'cos_month', 'sin_month', 'cos_quarter', 'sin_quarter', 'unique_brand_count']"
   ]
  },
  {
   "cell_type": "code",
   "execution_count": 2,
   "id": "c3c456cd",
   "metadata": {
    "execution": {
     "iopub.execute_input": "2025-10-20T20:47:43.992201Z",
     "iopub.status.busy": "2025-10-20T20:47:43.992201Z",
     "iopub.status.idle": "2025-10-20T20:47:44.096766Z",
     "shell.execute_reply": "2025-10-20T20:47:44.095764Z"
    }
   },
   "outputs": [
    {
     "name": "stdout",
     "output_type": "stream",
     "text": [
      "Forecast horizon: 72 periods\n"
     ]
    }
   ],
   "source": [
    "df = pd.read_csv(DATA_PATH)\n",
    "df['date'] = pd.to_datetime(df['date'])\n",
    "for col in REGRESSORS:\n",
    "    df[col] = pd.to_numeric(df[col], errors='coerce')\n",
    "df = df.sort_values(GROUP_COLS + ['date']).reset_index(drop=True)\n",
    "\n",
    "future_counts = df[df[TARGET_COLUMN].isna()].groupby(GROUP_COLS).size()\n",
    "forecast_horizon = int(future_counts.max()) if not future_counts.empty else 12\n",
    "if forecast_horizon <= 0:\n",
    "    forecast_horizon = 12\n",
    "\n",
    "print(f'Forecast horizon: {forecast_horizon} periods')"
   ]
  },
  {
   "cell_type": "code",
   "execution_count": 3,
   "id": "50cccdf7",
   "metadata": {
    "execution": {
     "iopub.execute_input": "2025-10-20T20:47:44.101983Z",
     "iopub.status.busy": "2025-10-20T20:47:44.100984Z",
     "iopub.status.idle": "2025-10-20T20:49:38.849637Z",
     "shell.execute_reply": "2025-10-20T20:49:38.848638Z"
    }
   },
   "outputs": [
    {
     "name": "stderr",
     "output_type": "stream",
     "text": [
      "C:\\Users\\Admin\\AppData\\Local\\Packages\\PythonSoftwareFoundation.Python.3.12_qbz5n2kfra8p0\\LocalCache\\local-packages\\Python312\\site-packages\\statsmodels\\tsa\\base\\tsa_model.py:473: ValueWarning: A date index has been provided, but it has no associated frequency information and so will be ignored when e.g. forecasting.\n",
      "  self._init_dates(dates, freq)\n",
      "C:\\Users\\Admin\\AppData\\Local\\Packages\\PythonSoftwareFoundation.Python.3.12_qbz5n2kfra8p0\\LocalCache\\local-packages\\Python312\\site-packages\\statsmodels\\tsa\\base\\tsa_model.py:837: ValueWarning: No supported index is available. Prediction results will be given with an integer index beginning at `start`.\n",
      "  return get_prediction_index(\n",
      "C:\\Users\\Admin\\AppData\\Local\\Packages\\PythonSoftwareFoundation.Python.3.12_qbz5n2kfra8p0\\LocalCache\\local-packages\\Python312\\site-packages\\statsmodels\\tsa\\base\\tsa_model.py:837: FutureWarning: No supported index is available. In the next version, calling this method in a model without a supported index will result in an exception.\n",
      "  return get_prediction_index(\n"
     ]
    },
    {
     "name": "stderr",
     "output_type": "stream",
     "text": [
      "C:\\Users\\Admin\\AppData\\Local\\Packages\\PythonSoftwareFoundation.Python.3.12_qbz5n2kfra8p0\\LocalCache\\local-packages\\Python312\\site-packages\\statsmodels\\tsa\\base\\tsa_model.py:473: ValueWarning: A date index has been provided, but it has no associated frequency information and so will be ignored when e.g. forecasting.\n",
      "  self._init_dates(dates, freq)\n"
     ]
    },
    {
     "name": "stderr",
     "output_type": "stream",
     "text": [
      "C:\\Users\\Admin\\AppData\\Local\\Packages\\PythonSoftwareFoundation.Python.3.12_qbz5n2kfra8p0\\LocalCache\\local-packages\\Python312\\site-packages\\statsmodels\\tsa\\base\\tsa_model.py:837: ValueWarning: No supported index is available. Prediction results will be given with an integer index beginning at `start`.\n",
      "  return get_prediction_index(\n",
      "C:\\Users\\Admin\\AppData\\Local\\Packages\\PythonSoftwareFoundation.Python.3.12_qbz5n2kfra8p0\\LocalCache\\local-packages\\Python312\\site-packages\\statsmodels\\tsa\\base\\tsa_model.py:837: FutureWarning: No supported index is available. In the next version, calling this method in a model without a supported index will result in an exception.\n",
      "  return get_prediction_index(\n"
     ]
    },
    {
     "name": "stderr",
     "output_type": "stream",
     "text": [
      "C:\\Users\\Admin\\AppData\\Local\\Packages\\PythonSoftwareFoundation.Python.3.12_qbz5n2kfra8p0\\LocalCache\\local-packages\\Python312\\site-packages\\statsmodels\\tsa\\base\\tsa_model.py:473: ValueWarning: A date index has been provided, but it has no associated frequency information and so will be ignored when e.g. forecasting.\n",
      "  self._init_dates(dates, freq)\n",
      "C:\\Users\\Admin\\AppData\\Local\\Packages\\PythonSoftwareFoundation.Python.3.12_qbz5n2kfra8p0\\LocalCache\\local-packages\\Python312\\site-packages\\statsmodels\\tsa\\base\\tsa_model.py:837: ValueWarning: No supported index is available. Prediction results will be given with an integer index beginning at `start`.\n",
      "  return get_prediction_index(\n",
      "C:\\Users\\Admin\\AppData\\Local\\Packages\\PythonSoftwareFoundation.Python.3.12_qbz5n2kfra8p0\\LocalCache\\local-packages\\Python312\\site-packages\\statsmodels\\tsa\\base\\tsa_model.py:837: FutureWarning: No supported index is available. In the next version, calling this method in a model without a supported index will result in an exception.\n",
      "  return get_prediction_index(\n"
     ]
    },
    {
     "name": "stderr",
     "output_type": "stream",
     "text": [
      "C:\\Users\\Admin\\AppData\\Local\\Packages\\PythonSoftwareFoundation.Python.3.12_qbz5n2kfra8p0\\LocalCache\\local-packages\\Python312\\site-packages\\statsmodels\\tsa\\base\\tsa_model.py:473: ValueWarning: A date index has been provided, but it has no associated frequency information and so will be ignored when e.g. forecasting.\n",
      "  self._init_dates(dates, freq)\n",
      "C:\\Users\\Admin\\AppData\\Local\\Packages\\PythonSoftwareFoundation.Python.3.12_qbz5n2kfra8p0\\LocalCache\\local-packages\\Python312\\site-packages\\statsmodels\\tsa\\base\\tsa_model.py:837: ValueWarning: No supported index is available. Prediction results will be given with an integer index beginning at `start`.\n",
      "  return get_prediction_index(\n",
      "C:\\Users\\Admin\\AppData\\Local\\Packages\\PythonSoftwareFoundation.Python.3.12_qbz5n2kfra8p0\\LocalCache\\local-packages\\Python312\\site-packages\\statsmodels\\tsa\\base\\tsa_model.py:837: FutureWarning: No supported index is available. In the next version, calling this method in a model without a supported index will result in an exception.\n",
      "  return get_prediction_index(\n"
     ]
    },
    {
     "name": "stderr",
     "output_type": "stream",
     "text": [
      "C:\\Users\\Admin\\AppData\\Local\\Packages\\PythonSoftwareFoundation.Python.3.12_qbz5n2kfra8p0\\LocalCache\\local-packages\\Python312\\site-packages\\statsmodels\\tsa\\base\\tsa_model.py:473: ValueWarning: A date index has been provided, but it has no associated frequency information and so will be ignored when e.g. forecasting.\n",
      "  self._init_dates(dates, freq)\n",
      "C:\\Users\\Admin\\AppData\\Local\\Packages\\PythonSoftwareFoundation.Python.3.12_qbz5n2kfra8p0\\LocalCache\\local-packages\\Python312\\site-packages\\statsmodels\\tsa\\base\\tsa_model.py:837: ValueWarning: No supported index is available. Prediction results will be given with an integer index beginning at `start`.\n",
      "  return get_prediction_index(\n",
      "C:\\Users\\Admin\\AppData\\Local\\Packages\\PythonSoftwareFoundation.Python.3.12_qbz5n2kfra8p0\\LocalCache\\local-packages\\Python312\\site-packages\\statsmodels\\tsa\\base\\tsa_model.py:837: FutureWarning: No supported index is available. In the next version, calling this method in a model without a supported index will result in an exception.\n",
      "  return get_prediction_index(\n"
     ]
    },
    {
     "data": {
      "text/html": [
       "<div>\n",
       "<style scoped>\n",
       "    .dataframe tbody tr th:only-of-type {\n",
       "        vertical-align: middle;\n",
       "    }\n",
       "\n",
       "    .dataframe tbody tr th {\n",
       "        vertical-align: top;\n",
       "    }\n",
       "\n",
       "    .dataframe thead th {\n",
       "        text-align: right;\n",
       "    }\n",
       "</style>\n",
       "<table border=\"1\" class=\"dataframe\">\n",
       "  <thead>\n",
       "    <tr style=\"text-align: right;\">\n",
       "      <th></th>\n",
       "      <th>group_key</th>\n",
       "      <th>train_rows</th>\n",
       "      <th>cv_mae</th>\n",
       "      <th>skipped_reason</th>\n",
       "    </tr>\n",
       "  </thead>\n",
       "  <tbody>\n",
       "    <tr>\n",
       "      <th>0</th>\n",
       "      <td>1</td>\n",
       "      <td>408</td>\n",
       "      <td>1.351982e+07</td>\n",
       "      <td>None</td>\n",
       "    </tr>\n",
       "    <tr>\n",
       "      <th>1</th>\n",
       "      <td>2</td>\n",
       "      <td>408</td>\n",
       "      <td>1.258197e+07</td>\n",
       "      <td>None</td>\n",
       "    </tr>\n",
       "    <tr>\n",
       "      <th>2</th>\n",
       "      <td>3</td>\n",
       "      <td>408</td>\n",
       "      <td>4.684374e+07</td>\n",
       "      <td>None</td>\n",
       "    </tr>\n",
       "    <tr>\n",
       "      <th>3</th>\n",
       "      <td>4</td>\n",
       "      <td>408</td>\n",
       "      <td>1.090258e+07</td>\n",
       "      <td>None</td>\n",
       "    </tr>\n",
       "    <tr>\n",
       "      <th>4</th>\n",
       "      <td>5</td>\n",
       "      <td>408</td>\n",
       "      <td>7.471469e+06</td>\n",
       "      <td>None</td>\n",
       "    </tr>\n",
       "  </tbody>\n",
       "</table>\n",
       "</div>"
      ],
      "text/plain": [
       "   group_key  train_rows        cv_mae skipped_reason\n",
       "0          1         408  1.351982e+07           None\n",
       "1          2         408  1.258197e+07           None\n",
       "2          3         408  4.684374e+07           None\n",
       "3          4         408  1.090258e+07           None\n",
       "4          5         408  7.471469e+06           None"
      ]
     },
     "execution_count": 3,
     "metadata": {},
     "output_type": "execute_result"
    }
   ],
   "source": [
    "input_cols = ['date', *GROUP_COLS, TARGET_COLUMN, *REGRESSORS]\n",
    "input_cols = list(dict.fromkeys(input_cols))\n",
    "config = ForecastConfig(\n",
    "    time_col='date',\n",
    "    target_col=TARGET_COLUMN,\n",
    "    group_cols=GROUP_COLS,\n",
    "    freq='MS',\n",
    "    forecast_horizon=forecast_horizon,\n",
    "    seasonal_periods=12,\n",
    "    min_history=24,\n",
    "    lags=(1, 2, 3, 6, 12, 18, 24),\n",
    "    rolling_windows=(3, 6, 12, 24),\n",
    "    additional_regressors=REGRESSORS,\n",
    "    random_search_iterations=30,\n",
    "    n_splits=4,\n",
    "    random_state=46,\n",
    ")\n",
    "\n",
    "preds, summaries = run_three_phase_forecast(df[input_cols].copy(), config)\n",
    "preds = preds.rename(columns={\n",
    "    'prediction': 'revenue_forecast',\n",
    "    f'{TARGET_COLUMN}_holtwinters': 'revenue_baseline',\n",
    "})\n",
    "summary_report = pd.DataFrame({\n",
    "    'group_key': [s.group_key[0] for s in summaries],\n",
    "    'train_rows': [s.train_rows for s in summaries],\n",
    "    'cv_mae': [s.best_score for s in summaries],\n",
    "    'skipped_reason': [s.skipped_reason for s in summaries],\n",
    "})\n",
    "summary_report.head()"
   ]
  },
  {
   "cell_type": "code",
   "execution_count": 4,
   "id": "59c1629e",
   "metadata": {
    "execution": {
     "iopub.execute_input": "2025-10-20T20:49:38.857639Z",
     "iopub.status.busy": "2025-10-20T20:49:38.856639Z",
     "iopub.status.idle": "2025-10-20T20:49:38.923535Z",
     "shell.execute_reply": "2025-10-20T20:49:38.923535Z"
    }
   },
   "outputs": [
    {
     "data": {
      "text/html": [
       "<div>\n",
       "<style scoped>\n",
       "    .dataframe tbody tr th:only-of-type {\n",
       "        vertical-align: middle;\n",
       "    }\n",
       "\n",
       "    .dataframe tbody tr th {\n",
       "        vertical-align: top;\n",
       "    }\n",
       "\n",
       "    .dataframe thead th {\n",
       "        text-align: right;\n",
       "    }\n",
       "</style>\n",
       "<table border=\"1\" class=\"dataframe\">\n",
       "  <thead>\n",
       "    <tr style=\"text-align: right;\">\n",
       "      <th></th>\n",
       "      <th>date</th>\n",
       "      <th>category_id</th>\n",
       "      <th>category_title</th>\n",
       "      <th>revenue</th>\n",
       "    </tr>\n",
       "  </thead>\n",
       "  <tbody>\n",
       "    <tr>\n",
       "      <th>3400</th>\n",
       "      <td>2026-04-01</td>\n",
       "      <td>5</td>\n",
       "      <td>Vodka</td>\n",
       "      <td>90530896.0</td>\n",
       "    </tr>\n",
       "    <tr>\n",
       "      <th>3416</th>\n",
       "      <td>2026-05-01</td>\n",
       "      <td>5</td>\n",
       "      <td>Vodka</td>\n",
       "      <td>90935576.0</td>\n",
       "    </tr>\n",
       "    <tr>\n",
       "      <th>3432</th>\n",
       "      <td>2026-06-01</td>\n",
       "      <td>5</td>\n",
       "      <td>Vodka</td>\n",
       "      <td>96083184.0</td>\n",
       "    </tr>\n",
       "    <tr>\n",
       "      <th>3448</th>\n",
       "      <td>2026-07-01</td>\n",
       "      <td>5</td>\n",
       "      <td>Vodka</td>\n",
       "      <td>95405472.0</td>\n",
       "    </tr>\n",
       "    <tr>\n",
       "      <th>3464</th>\n",
       "      <td>2026-08-01</td>\n",
       "      <td>5</td>\n",
       "      <td>Vodka</td>\n",
       "      <td>95513080.0</td>\n",
       "    </tr>\n",
       "  </tbody>\n",
       "</table>\n",
       "</div>"
      ],
      "text/plain": [
       "           date  category_id category_title     revenue\n",
       "3400 2026-04-01            5          Vodka  90530896.0\n",
       "3416 2026-05-01            5          Vodka  90935576.0\n",
       "3432 2026-06-01            5          Vodka  96083184.0\n",
       "3448 2026-07-01            5          Vodka  95405472.0\n",
       "3464 2026-08-01            5          Vodka  95513080.0"
      ]
     },
     "execution_count": 4,
     "metadata": {},
     "output_type": "execute_result"
    }
   ],
   "source": [
    "merge_cols = [*GROUP_COLS, 'date']\n",
    "result_df = df.copy()\n",
    "result_df = result_df.merge(preds[merge_cols + ['revenue_forecast']], on=merge_cols, how='left')\n",
    "result_df['revenue'] = result_df['revenue'].astype(float)\n",
    "result_df['revenue'] = result_df['revenue'].fillna(result_df['revenue_forecast'])\n",
    "\n",
    "output_columns = ['date', 'category_id', 'category_title', 'revenue']\n",
    "final_output = result_df[output_columns].sort_values(['category_id', 'date']).reset_index(drop=True)\n",
    "final_output = final_output.drop_duplicates(['date', 'category_id'])\n",
    "final_output.to_csv(OUTPUT_PATH, index=False)\n",
    "\n",
    "final_output.tail()\n"
   ]
  },
  {
   "cell_type": "code",
   "execution_count": 5,
   "id": "bfe32f75",
   "metadata": {
    "execution": {
     "iopub.execute_input": "2025-10-20T20:49:38.929517Z",
     "iopub.status.busy": "2025-10-20T20:49:38.928541Z",
     "iopub.status.idle": "2025-10-20T20:49:38.942636Z",
     "shell.execute_reply": "2025-10-20T20:49:38.941633Z"
    }
   },
   "outputs": [
    {
     "data": {
      "text/html": [
       "<div>\n",
       "<style scoped>\n",
       "    .dataframe tbody tr th:only-of-type {\n",
       "        vertical-align: middle;\n",
       "    }\n",
       "\n",
       "    .dataframe tbody tr th {\n",
       "        vertical-align: top;\n",
       "    }\n",
       "\n",
       "    .dataframe thead th {\n",
       "        text-align: right;\n",
       "    }\n",
       "</style>\n",
       "<table border=\"1\" class=\"dataframe\">\n",
       "  <thead>\n",
       "    <tr style=\"text-align: right;\">\n",
       "      <th></th>\n",
       "      <th>group_key</th>\n",
       "      <th>train_rows</th>\n",
       "      <th>cv_mae</th>\n",
       "      <th>skipped_reason</th>\n",
       "    </tr>\n",
       "  </thead>\n",
       "  <tbody>\n",
       "    <tr>\n",
       "      <th>0</th>\n",
       "      <td>1</td>\n",
       "      <td>408</td>\n",
       "      <td>1.351982e+07</td>\n",
       "      <td>None</td>\n",
       "    </tr>\n",
       "    <tr>\n",
       "      <th>1</th>\n",
       "      <td>2</td>\n",
       "      <td>408</td>\n",
       "      <td>1.258197e+07</td>\n",
       "      <td>None</td>\n",
       "    </tr>\n",
       "    <tr>\n",
       "      <th>2</th>\n",
       "      <td>3</td>\n",
       "      <td>408</td>\n",
       "      <td>4.684374e+07</td>\n",
       "      <td>None</td>\n",
       "    </tr>\n",
       "    <tr>\n",
       "      <th>3</th>\n",
       "      <td>4</td>\n",
       "      <td>408</td>\n",
       "      <td>1.090258e+07</td>\n",
       "      <td>None</td>\n",
       "    </tr>\n",
       "    <tr>\n",
       "      <th>4</th>\n",
       "      <td>5</td>\n",
       "      <td>408</td>\n",
       "      <td>7.471469e+06</td>\n",
       "      <td>None</td>\n",
       "    </tr>\n",
       "  </tbody>\n",
       "</table>\n",
       "</div>"
      ],
      "text/plain": [
       "   group_key  train_rows        cv_mae skipped_reason\n",
       "0          1         408  1.351982e+07           None\n",
       "1          2         408  1.258197e+07           None\n",
       "2          3         408  4.684374e+07           None\n",
       "3          4         408  1.090258e+07           None\n",
       "4          5         408  7.471469e+06           None"
      ]
     },
     "execution_count": 5,
     "metadata": {},
     "output_type": "execute_result"
    }
   ],
   "source": [
    "summary_report"
   ]
  }
 ],
 "metadata": {
  "kernelspec": {
   "display_name": "Python 3",
   "language": "python",
   "name": "python3"
  },
  "language_info": {
   "codemirror_mode": {
    "name": "ipython",
    "version": 3
   },
   "file_extension": ".py",
   "mimetype": "text/x-python",
   "name": "python",
   "nbconvert_exporter": "python",
   "pygments_lexer": "ipython3",
   "version": "3.12.10"
  }
 },
 "nbformat": 4,
 "nbformat_minor": 5
}
