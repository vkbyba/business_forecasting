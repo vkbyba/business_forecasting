{
 "cells": [
  {
   "cell_type": "markdown",
   "id": "29969f75",
   "metadata": {},
   "source": [
    "## Прогноз виручки (three-phase linear)\n",
    "\n",
    "Щомісячний прогноз виручки по категоріях із повторним використанням пайплайну."
   ]
  },
  {
   "cell_type": "code",
   "execution_count": 1,
   "id": "365debee",
   "metadata": {
    "execution": {
     "iopub.execute_input": "2025-10-22T21:22:36.857268Z",
     "iopub.status.busy": "2025-10-22T21:22:36.856267Z",
     "iopub.status.idle": "2025-10-22T21:22:39.876503Z",
     "shell.execute_reply": "2025-10-22T21:22:39.876503Z"
    }
   },
   "outputs": [],
   "source": [
    "from pathlib import Path\n",
    "\n",
    "import numpy as np\n",
    "import pandas as pd\n",
    "\n",
    "from three_phase_linear import ForecastConfig, run_three_phase_forecast\n",
    "\n",
    "DATA_PATH = Path('forecast_revenue_dataset.csv')\n",
    "OUTPUT_PATH = Path('money_three_phase_forecast.csv')\n",
    "GROUP_COLS = ['category_id']\n",
    "TARGET_COLUMN = 'revenue'\n",
    "REGRESSORS = ['is_sale_prohibition', 'cos_month', 'sin_month', 'cos_quarter', 'sin_quarter', 'unique_brand_count']"
   ]
  },
  {
   "cell_type": "code",
   "execution_count": 2,
   "id": "9e22446a",
   "metadata": {
    "execution": {
     "iopub.execute_input": "2025-10-22T21:22:39.884507Z",
     "iopub.status.busy": "2025-10-22T21:22:39.883538Z",
     "iopub.status.idle": "2025-10-22T21:22:39.925029Z",
     "shell.execute_reply": "2025-10-22T21:22:39.924026Z"
    }
   },
   "outputs": [
    {
     "name": "stdout",
     "output_type": "stream",
     "text": [
      "Горизонт прогнозу: 72 періодів\n"
     ]
    }
   ],
   "source": [
    "df = pd.read_csv(DATA_PATH)\n",
    "df['date'] = pd.to_datetime(df['date'])\n",
    "for col in REGRESSORS:\n",
    "    df[col] = pd.to_numeric(df[col], errors='coerce')\n",
    "df = df.sort_values(GROUP_COLS + ['date']).reset_index(drop=True)\n",
    "\n",
    "future_counts = df[df[TARGET_COLUMN].isna()].groupby(GROUP_COLS).size()\n",
    "forecast_horizon = int(future_counts.max()) if not future_counts.empty else 12\n",
    "if forecast_horizon <= 0:\n",
    "    forecast_horizon = 12\n",
    "\n",
    "print(f'Горизонт прогнозу: {forecast_horizon} періодів')"
   ]
  },
  {
   "cell_type": "code",
   "execution_count": 3,
   "id": "02005123",
   "metadata": {
    "execution": {
     "iopub.execute_input": "2025-10-22T21:22:39.931020Z",
     "iopub.status.busy": "2025-10-22T21:22:39.931020Z",
     "iopub.status.idle": "2025-10-22T21:23:20.897612Z",
     "shell.execute_reply": "2025-10-22T21:23:20.896611Z"
    }
   },
   "outputs": [
    {
     "name": "stderr",
     "output_type": "stream",
     "text": [
      "C:\\Users\\Admin\\AppData\\Local\\Packages\\PythonSoftwareFoundation.Python.3.12_qbz5n2kfra8p0\\LocalCache\\local-packages\\Python312\\site-packages\\statsmodels\\tsa\\base\\tsa_model.py:473: ValueWarning: A date index has been provided, but it has no associated frequency information and so will be ignored when e.g. forecasting.\n",
      "  self._init_dates(dates, freq)\n"
     ]
    },
    {
     "name": "stderr",
     "output_type": "stream",
     "text": [
      "C:\\Users\\Admin\\AppData\\Local\\Packages\\PythonSoftwareFoundation.Python.3.12_qbz5n2kfra8p0\\LocalCache\\local-packages\\Python312\\site-packages\\statsmodels\\tsa\\base\\tsa_model.py:837: ValueWarning: No supported index is available. Prediction results will be given with an integer index beginning at `start`.\n",
      "  return get_prediction_index(\n",
      "C:\\Users\\Admin\\AppData\\Local\\Packages\\PythonSoftwareFoundation.Python.3.12_qbz5n2kfra8p0\\LocalCache\\local-packages\\Python312\\site-packages\\statsmodels\\tsa\\base\\tsa_model.py:837: FutureWarning: No supported index is available. In the next version, calling this method in a model without a supported index will result in an exception.\n",
      "  return get_prediction_index(\n"
     ]
    },
    {
     "name": "stderr",
     "output_type": "stream",
     "text": [
      "C:\\Users\\Admin\\AppData\\Local\\Packages\\PythonSoftwareFoundation.Python.3.12_qbz5n2kfra8p0\\LocalCache\\local-packages\\Python312\\site-packages\\statsmodels\\tsa\\base\\tsa_model.py:473: ValueWarning: A date index has been provided, but it has no associated frequency information and so will be ignored when e.g. forecasting.\n",
      "  self._init_dates(dates, freq)\n"
     ]
    },
    {
     "name": "stderr",
     "output_type": "stream",
     "text": [
      "C:\\Users\\Admin\\AppData\\Local\\Packages\\PythonSoftwareFoundation.Python.3.12_qbz5n2kfra8p0\\LocalCache\\local-packages\\Python312\\site-packages\\statsmodels\\tsa\\base\\tsa_model.py:837: ValueWarning: No supported index is available. Prediction results will be given with an integer index beginning at `start`.\n",
      "  return get_prediction_index(\n",
      "C:\\Users\\Admin\\AppData\\Local\\Packages\\PythonSoftwareFoundation.Python.3.12_qbz5n2kfra8p0\\LocalCache\\local-packages\\Python312\\site-packages\\statsmodels\\tsa\\base\\tsa_model.py:837: FutureWarning: No supported index is available. In the next version, calling this method in a model without a supported index will result in an exception.\n",
      "  return get_prediction_index(\n"
     ]
    },
    {
     "name": "stderr",
     "output_type": "stream",
     "text": [
      "C:\\Users\\Admin\\AppData\\Local\\Packages\\PythonSoftwareFoundation.Python.3.12_qbz5n2kfra8p0\\LocalCache\\local-packages\\Python312\\site-packages\\statsmodels\\tsa\\base\\tsa_model.py:473: ValueWarning: A date index has been provided, but it has no associated frequency information and so will be ignored when e.g. forecasting.\n",
      "  self._init_dates(dates, freq)\n"
     ]
    },
    {
     "name": "stderr",
     "output_type": "stream",
     "text": [
      "C:\\Users\\Admin\\AppData\\Local\\Packages\\PythonSoftwareFoundation.Python.3.12_qbz5n2kfra8p0\\LocalCache\\local-packages\\Python312\\site-packages\\statsmodels\\tsa\\base\\tsa_model.py:837: ValueWarning: No supported index is available. Prediction results will be given with an integer index beginning at `start`.\n",
      "  return get_prediction_index(\n",
      "C:\\Users\\Admin\\AppData\\Local\\Packages\\PythonSoftwareFoundation.Python.3.12_qbz5n2kfra8p0\\LocalCache\\local-packages\\Python312\\site-packages\\statsmodels\\tsa\\base\\tsa_model.py:837: FutureWarning: No supported index is available. In the next version, calling this method in a model without a supported index will result in an exception.\n",
      "  return get_prediction_index(\n"
     ]
    },
    {
     "name": "stderr",
     "output_type": "stream",
     "text": [
      "C:\\Users\\Admin\\AppData\\Local\\Packages\\PythonSoftwareFoundation.Python.3.12_qbz5n2kfra8p0\\LocalCache\\local-packages\\Python312\\site-packages\\statsmodels\\tsa\\base\\tsa_model.py:473: ValueWarning: A date index has been provided, but it has no associated frequency information and so will be ignored when e.g. forecasting.\n",
      "  self._init_dates(dates, freq)\n"
     ]
    },
    {
     "name": "stderr",
     "output_type": "stream",
     "text": [
      "C:\\Users\\Admin\\AppData\\Local\\Packages\\PythonSoftwareFoundation.Python.3.12_qbz5n2kfra8p0\\LocalCache\\local-packages\\Python312\\site-packages\\statsmodels\\tsa\\base\\tsa_model.py:837: ValueWarning: No supported index is available. Prediction results will be given with an integer index beginning at `start`.\n",
      "  return get_prediction_index(\n",
      "C:\\Users\\Admin\\AppData\\Local\\Packages\\PythonSoftwareFoundation.Python.3.12_qbz5n2kfra8p0\\LocalCache\\local-packages\\Python312\\site-packages\\statsmodels\\tsa\\base\\tsa_model.py:837: FutureWarning: No supported index is available. In the next version, calling this method in a model without a supported index will result in an exception.\n",
      "  return get_prediction_index(\n"
     ]
    },
    {
     "name": "stderr",
     "output_type": "stream",
     "text": [
      "C:\\Users\\Admin\\AppData\\Local\\Packages\\PythonSoftwareFoundation.Python.3.12_qbz5n2kfra8p0\\LocalCache\\local-packages\\Python312\\site-packages\\statsmodels\\tsa\\base\\tsa_model.py:473: ValueWarning: A date index has been provided, but it has no associated frequency information and so will be ignored when e.g. forecasting.\n",
      "  self._init_dates(dates, freq)\n"
     ]
    },
    {
     "name": "stderr",
     "output_type": "stream",
     "text": [
      "C:\\Users\\Admin\\AppData\\Local\\Packages\\PythonSoftwareFoundation.Python.3.12_qbz5n2kfra8p0\\LocalCache\\local-packages\\Python312\\site-packages\\statsmodels\\tsa\\base\\tsa_model.py:837: ValueWarning: No supported index is available. Prediction results will be given with an integer index beginning at `start`.\n",
      "  return get_prediction_index(\n",
      "C:\\Users\\Admin\\AppData\\Local\\Packages\\PythonSoftwareFoundation.Python.3.12_qbz5n2kfra8p0\\LocalCache\\local-packages\\Python312\\site-packages\\statsmodels\\tsa\\base\\tsa_model.py:837: FutureWarning: No supported index is available. In the next version, calling this method in a model without a supported index will result in an exception.\n",
      "  return get_prediction_index(\n"
     ]
    },
    {
     "data": {
      "text/html": [
       "<div>\n",
       "<style scoped>\n",
       "    .dataframe tbody tr th:only-of-type {\n",
       "        vertical-align: middle;\n",
       "    }\n",
       "\n",
       "    .dataframe tbody tr th {\n",
       "        vertical-align: top;\n",
       "    }\n",
       "\n",
       "    .dataframe thead th {\n",
       "        text-align: right;\n",
       "    }\n",
       "</style>\n",
       "<table border=\"1\" class=\"dataframe\">\n",
       "  <thead>\n",
       "    <tr style=\"text-align: right;\">\n",
       "      <th></th>\n",
       "      <th>group_key</th>\n",
       "      <th>train_rows</th>\n",
       "      <th>cv_mae</th>\n",
       "      <th>skipped_reason</th>\n",
       "    </tr>\n",
       "  </thead>\n",
       "  <tbody>\n",
       "    <tr>\n",
       "      <th>0</th>\n",
       "      <td>1</td>\n",
       "      <td>408</td>\n",
       "      <td>1.362843e+07</td>\n",
       "      <td>None</td>\n",
       "    </tr>\n",
       "    <tr>\n",
       "      <th>1</th>\n",
       "      <td>2</td>\n",
       "      <td>408</td>\n",
       "      <td>1.295078e+07</td>\n",
       "      <td>None</td>\n",
       "    </tr>\n",
       "    <tr>\n",
       "      <th>2</th>\n",
       "      <td>3</td>\n",
       "      <td>408</td>\n",
       "      <td>4.757858e+07</td>\n",
       "      <td>None</td>\n",
       "    </tr>\n",
       "    <tr>\n",
       "      <th>3</th>\n",
       "      <td>4</td>\n",
       "      <td>408</td>\n",
       "      <td>1.111939e+07</td>\n",
       "      <td>None</td>\n",
       "    </tr>\n",
       "    <tr>\n",
       "      <th>4</th>\n",
       "      <td>5</td>\n",
       "      <td>408</td>\n",
       "      <td>7.521579e+06</td>\n",
       "      <td>None</td>\n",
       "    </tr>\n",
       "  </tbody>\n",
       "</table>\n",
       "</div>"
      ],
      "text/plain": [
       "   group_key  train_rows        cv_mae skipped_reason\n",
       "0          1         408  1.362843e+07           None\n",
       "1          2         408  1.295078e+07           None\n",
       "2          3         408  4.757858e+07           None\n",
       "3          4         408  1.111939e+07           None\n",
       "4          5         408  7.521579e+06           None"
      ]
     },
     "execution_count": 3,
     "metadata": {},
     "output_type": "execute_result"
    }
   ],
   "source": [
    "input_cols = ['date', *GROUP_COLS, TARGET_COLUMN, *REGRESSORS]\n",
    "input_cols = list(dict.fromkeys(input_cols))\n",
    "config = ForecastConfig(\n",
    "    time_col='date',\n",
    "    target_col=TARGET_COLUMN,\n",
    "    group_cols=GROUP_COLS,\n",
    "    freq='MS',\n",
    "    forecast_horizon=forecast_horizon,\n",
    "    seasonal_periods=12,\n",
    "    min_history=24,\n",
    "    lags=(1, 2, 3, 6, 12, 18, 24),\n",
    "    rolling_windows=(3, 6, 12, 24),\n",
    "    additional_regressors=REGRESSORS,\n",
    "    random_search_iterations=10,\n",
    "    n_splits=4,\n",
    "    random_state=46,\n",
    ")\n",
    "\n",
    "preds, summaries = run_three_phase_forecast(df[input_cols].copy(), config)\n",
    "preds = preds.rename(columns={\n",
    "    'prediction': 'revenue_forecast',\n",
    "    f'{TARGET_COLUMN}_holtwinters': 'revenue_baseline',\n",
    "})\n",
    "summary_report = pd.DataFrame({\n",
    "    'group_key': [s.group_key[0] for s in summaries],\n",
    "    'train_rows': [s.train_rows for s in summaries],\n",
    "    'cv_mae': [s.best_score for s in summaries],\n",
    "    'skipped_reason': [s.skipped_reason for s in summaries],\n",
    "})\n",
    "summary_report.head()"
   ]
  },
  {
   "cell_type": "code",
   "execution_count": 4,
   "id": "f47bd8e2",
   "metadata": {
    "execution": {
     "iopub.execute_input": "2025-10-22T21:23:20.903613Z",
     "iopub.status.busy": "2025-10-22T21:23:20.902612Z",
     "iopub.status.idle": "2025-10-22T21:23:20.953473Z",
     "shell.execute_reply": "2025-10-22T21:23:20.953473Z"
    }
   },
   "outputs": [
    {
     "data": {
      "text/html": [
       "<div>\n",
       "<style scoped>\n",
       "    .dataframe tbody tr th:only-of-type {\n",
       "        vertical-align: middle;\n",
       "    }\n",
       "\n",
       "    .dataframe tbody tr th {\n",
       "        vertical-align: top;\n",
       "    }\n",
       "\n",
       "    .dataframe thead th {\n",
       "        text-align: right;\n",
       "    }\n",
       "</style>\n",
       "<table border=\"1\" class=\"dataframe\">\n",
       "  <thead>\n",
       "    <tr style=\"text-align: right;\">\n",
       "      <th></th>\n",
       "      <th>date</th>\n",
       "      <th>category_id</th>\n",
       "      <th>category_title</th>\n",
       "      <th>revenue</th>\n",
       "    </tr>\n",
       "  </thead>\n",
       "  <tbody>\n",
       "    <tr>\n",
       "      <th>85</th>\n",
       "      <td>2026-04-01</td>\n",
       "      <td>5</td>\n",
       "      <td>Vodka</td>\n",
       "      <td>1.412862e+09</td>\n",
       "    </tr>\n",
       "    <tr>\n",
       "      <th>86</th>\n",
       "      <td>2026-05-01</td>\n",
       "      <td>5</td>\n",
       "      <td>Vodka</td>\n",
       "      <td>1.431305e+09</td>\n",
       "    </tr>\n",
       "    <tr>\n",
       "      <th>87</th>\n",
       "      <td>2026-06-01</td>\n",
       "      <td>5</td>\n",
       "      <td>Vodka</td>\n",
       "      <td>1.534269e+09</td>\n",
       "    </tr>\n",
       "    <tr>\n",
       "      <th>88</th>\n",
       "      <td>2026-07-01</td>\n",
       "      <td>5</td>\n",
       "      <td>Vodka</td>\n",
       "      <td>1.479408e+09</td>\n",
       "    </tr>\n",
       "    <tr>\n",
       "      <th>89</th>\n",
       "      <td>2026-08-01</td>\n",
       "      <td>5</td>\n",
       "      <td>Vodka</td>\n",
       "      <td>1.494589e+09</td>\n",
       "    </tr>\n",
       "  </tbody>\n",
       "</table>\n",
       "</div>"
      ],
      "text/plain": [
       "         date  category_id category_title       revenue\n",
       "85 2026-04-01            5          Vodka  1.412862e+09\n",
       "86 2026-05-01            5          Vodka  1.431305e+09\n",
       "87 2026-06-01            5          Vodka  1.534269e+09\n",
       "88 2026-07-01            5          Vodka  1.479408e+09\n",
       "89 2026-08-01            5          Vodka  1.494589e+09"
      ]
     },
     "execution_count": 4,
     "metadata": {},
     "output_type": "execute_result"
    }
   ],
   "source": [
    "merge_cols = [*GROUP_COLS, 'date']\n",
    "result_df = df.copy()\n",
    "result_df['is_forecast_period'] = result_df[TARGET_COLUMN].isna()\n",
    "result_df = result_df.merge(preds[merge_cols + ['revenue_forecast']], on=merge_cols, how='left')\n",
    "result_df['revenue'] = result_df['revenue'].astype(float)\n",
    "result_df['revenue'] = result_df['revenue'].fillna(result_df['revenue_forecast'])\n",
    "\n",
    "output_columns = ['date', 'category_id', 'category_title', 'revenue']\n",
    "final_output = result_df.loc[result_df['is_forecast_period'], output_columns]\n",
    "final_output = final_output.groupby(['date', 'category_id', 'category_title'], as_index=False)['revenue'].sum()\n",
    "final_output = final_output.sort_values(['category_id', 'date']).reset_index(drop=True)\n",
    "final_output.to_csv(OUTPUT_PATH, index=False)\n",
    "\n",
    "final_output.tail()"
   ]
  },
  {
   "cell_type": "code",
   "execution_count": 5,
   "id": "1c86a391",
   "metadata": {
    "execution": {
     "iopub.execute_input": "2025-10-22T21:23:20.959462Z",
     "iopub.status.busy": "2025-10-22T21:23:20.959462Z",
     "iopub.status.idle": "2025-10-22T21:23:20.974328Z",
     "shell.execute_reply": "2025-10-22T21:23:20.973310Z"
    }
   },
   "outputs": [
    {
     "data": {
      "text/html": [
       "<div>\n",
       "<style scoped>\n",
       "    .dataframe tbody tr th:only-of-type {\n",
       "        vertical-align: middle;\n",
       "    }\n",
       "\n",
       "    .dataframe tbody tr th {\n",
       "        vertical-align: top;\n",
       "    }\n",
       "\n",
       "    .dataframe thead th {\n",
       "        text-align: right;\n",
       "    }\n",
       "</style>\n",
       "<table border=\"1\" class=\"dataframe\">\n",
       "  <thead>\n",
       "    <tr style=\"text-align: right;\">\n",
       "      <th></th>\n",
       "      <th>group_key</th>\n",
       "      <th>train_rows</th>\n",
       "      <th>cv_mae</th>\n",
       "      <th>skipped_reason</th>\n",
       "    </tr>\n",
       "  </thead>\n",
       "  <tbody>\n",
       "    <tr>\n",
       "      <th>0</th>\n",
       "      <td>1</td>\n",
       "      <td>408</td>\n",
       "      <td>1.362843e+07</td>\n",
       "      <td>None</td>\n",
       "    </tr>\n",
       "    <tr>\n",
       "      <th>1</th>\n",
       "      <td>2</td>\n",
       "      <td>408</td>\n",
       "      <td>1.295078e+07</td>\n",
       "      <td>None</td>\n",
       "    </tr>\n",
       "    <tr>\n",
       "      <th>2</th>\n",
       "      <td>3</td>\n",
       "      <td>408</td>\n",
       "      <td>4.757858e+07</td>\n",
       "      <td>None</td>\n",
       "    </tr>\n",
       "    <tr>\n",
       "      <th>3</th>\n",
       "      <td>4</td>\n",
       "      <td>408</td>\n",
       "      <td>1.111939e+07</td>\n",
       "      <td>None</td>\n",
       "    </tr>\n",
       "    <tr>\n",
       "      <th>4</th>\n",
       "      <td>5</td>\n",
       "      <td>408</td>\n",
       "      <td>7.521579e+06</td>\n",
       "      <td>None</td>\n",
       "    </tr>\n",
       "  </tbody>\n",
       "</table>\n",
       "</div>"
      ],
      "text/plain": [
       "   group_key  train_rows        cv_mae skipped_reason\n",
       "0          1         408  1.362843e+07           None\n",
       "1          2         408  1.295078e+07           None\n",
       "2          3         408  4.757858e+07           None\n",
       "3          4         408  1.111939e+07           None\n",
       "4          5         408  7.521579e+06           None"
      ]
     },
     "execution_count": 5,
     "metadata": {},
     "output_type": "execute_result"
    }
   ],
   "source": [
    "summary_report"
   ]
  }
 ],
 "metadata": {
  "kernelspec": {
   "display_name": "Python 3",
   "language": "python",
   "name": "python3"
  },
  "language_info": {
   "codemirror_mode": {
    "name": "ipython",
    "version": 3
   },
   "file_extension": ".py",
   "mimetype": "text/x-python",
   "name": "python",
   "nbconvert_exporter": "python",
   "pygments_lexer": "ipython3",
   "version": "3.12.10"
  }
 },
 "nbformat": 4,
 "nbformat_minor": 5
}
