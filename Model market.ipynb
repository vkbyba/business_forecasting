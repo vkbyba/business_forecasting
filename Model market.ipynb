{
 "cells": [
  {
   "cell_type": "markdown",
   "id": "497330aa",
   "metadata": {},
   "source": [
    "## Прогноз ринку (three-phase linear)\n",
    "\n",
    "Зошит повторює ключові кроки `3p_linear_model`: базовий Holt-Winters, сезонні та лагові ознаки, фінальна модель XGBoost для кожної товарної групи."
   ]
  },
  {
   "cell_type": "code",
   "execution_count": null,
   "id": "12dd6d62",
   "metadata": {},
   "outputs": [],
   "source": [
    "from pathlib import Path\n",
    "\n",
    "import numpy as np\n",
    "import pandas as pd\n",
    "\n",
    "from three_phase_linear import ForecastConfig, run_three_phase_forecast\n",
    "\n",
    "DATA_PATH = Path('forecast_of_market_dataset.csv')\n",
    "OUTPUT_PATH = Path('market_three_phase_forecast.csv')\n",
    "GROUP_COLS = ['product_group_id']\n",
    "TARGET_COLUMNS = ['market_revenue', 'revenue_amazon']"
   ]
  },
  {
   "cell_type": "code",
   "execution_count": null,
   "id": "222a7c88",
   "metadata": {},
   "outputs": [],
   "source": [
    "df = pd.read_csv(DATA_PATH)\n",
    "df['month'] = pd.to_datetime(df['month'])\n",
    "df = df.sort_values(GROUP_COLS + ['month']).reset_index(drop=True)\n",
    "\n",
    "future_counts = df[df['market_revenue'].isna()].groupby(GROUP_COLS).size()\n",
    "forecast_horizon = int(future_counts.max()) if not future_counts.empty else 12\n",
    "if forecast_horizon <= 0:\n",
    "    forecast_horizon = 12\n",
    "\n",
    "print(f'Горизонт прогнозу: {forecast_horizon} періодів')"
   ]
  },
  {
   "cell_type": "code",
   "execution_count": null,
   "id": "bc80c39c",
   "metadata": {},
   "outputs": [],
   "source": [
    "prediction_frames = {}\n",
    "summary_frames = []\n",
    "\n",
    "for target in TARGET_COLUMNS:\n",
    "    target_df = df[['month', *GROUP_COLS, target]].copy()\n",
    "    config = ForecastConfig(\n",
    "        time_col='month',\n",
    "        target_col=target,\n",
    "        group_cols=GROUP_COLS,\n",
    "        freq='MS',\n",
    "        forecast_horizon=forecast_horizon,\n",
    "        seasonal_periods=12,\n",
    "        min_history=24,\n",
    "        lags=(1, 2, 3, 6, 12, 18, 24),\n",
    "        rolling_windows=(3, 6, 12, 24),\n",
    "        random_search_iterations=10,\n",
    "        n_splits=4,\n",
    "        random_state=46,\n",
    "    )\n",
    "\n",
    "    preds, summaries = run_three_phase_forecast(target_df, config)\n",
    "    preds = preds.rename(columns={\n",
    "        'prediction': f'{target}_forecast',\n",
    "        f'{target}_holtwinters': f'{target}_baseline',\n",
    "    })\n",
    "    prediction_frames[target] = preds\n",
    "\n",
    "    summary_df = pd.DataFrame({\n",
    "        'group_key': [s.group_key[0] for s in summaries],\n",
    "        'train_rows': [s.train_rows for s in summaries],\n",
    "        'cv_mae': [s.best_score for s in summaries],\n",
    "        'skipped_reason': [s.skipped_reason for s in summaries],\n",
    "    })\n",
    "    summary_df['target'] = target\n",
    "    summary_frames.append(summary_df)\n",
    "\n",
    "summary_report = pd.concat(summary_frames, ignore_index=True)\n",
    "summary_report.head()"
   ]
  },
  {
   "cell_type": "code",
   "execution_count": null,
   "id": "81bf0840",
   "metadata": {},
   "outputs": [],
   "source": [
    "result_df = df.copy()\n",
    "original_masks = {target: result_df[target].isna() for target in TARGET_COLUMNS}\n",
    "\n",
    "for target, preds in prediction_frames.items():\n",
    "    merge_cols = [*GROUP_COLS, 'month']\n",
    "    result_df = result_df.merge(\n",
    "        preds[merge_cols + [f'{target}_forecast']],\n",
    "        on=merge_cols,\n",
    "        how='left'\n",
    "    )\n",
    "    result_df[target] = result_df[target].astype(float)\n",
    "    result_df[target] = result_df[target].fillna(result_df[f'{target}_forecast'])\n",
    "\n",
    "output_columns = ['month', 'product_group_id', 'product_group_name', 'market_revenue', 'revenue_amazon']\n",
    "forecast_mask = np.zeros(len(result_df), dtype=bool)\n",
    "for target, mask in original_masks.items():\n",
    "    forecast_mask |= mask\n",
    "final_output = result_df.loc[forecast_mask, output_columns].sort_values(['product_group_id', 'month']).reset_index(drop=True)\n",
    "final_output.to_csv(OUTPUT_PATH, index=False)\n",
    "\n",
    "final_output.tail()"
   ]
  },
  {
   "cell_type": "code",
   "execution_count": null,
   "id": "ef13fb79",
   "metadata": {},
   "outputs": [],
   "source": [
    "summary_report"
   ]
  }
 ],
 "metadata": {
  "kernelspec": {
   "display_name": "Python 3",
   "language": "python",
   "name": "python3"
  },
  "language_info": {
   "name": "python",
   "pygments_lexer": "ipython3"
  }
 },
 "nbformat": 4,
 "nbformat_minor": 5
}
